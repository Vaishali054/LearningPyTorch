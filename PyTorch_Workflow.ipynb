{
  "nbformat": 4,
  "nbformat_minor": 0,
  "metadata": {
    "colab": {
      "provenance": [],
      "authorship_tag": "ABX9TyOV5Mf514NnvgSfbh4N9lhD"
    },
    "kernelspec": {
      "name": "python3",
      "display_name": "Python 3"
    },
    "language_info": {
      "name": "python"
    }
  },
  "cells": [
    {
      "cell_type": "markdown",
      "source": [
        "# PyTorch Workflow\n",
        "\n",
        "1. data (preprocess and load)\n",
        "2. build model\n",
        "3. fitting the model to data (training)\n",
        "4. making predictions and evaluating a model (inference)\n",
        "5. saving and loading a model\n",
        "6. putting it all together"
      ],
      "metadata": {
        "id": "LQIk4gInpKBe"
      }
    },
    {
      "cell_type": "code",
      "source": [
        "import torch\n",
        "from torch import nn # nn contains all of PyTorch's building blocks for beyral networks\n",
        "import matplotlib.pyplot as plt\n",
        "\n",
        "torch.__version__\n"
      ],
      "metadata": {
        "colab": {
          "base_uri": "https://localhost:8080/",
          "height": 36
        },
        "id": "KL_Fm3ovHOo3",
        "outputId": "6034c29f-6d40-4b00-c8dd-c933fe786a8b"
      },
      "execution_count": 1,
      "outputs": [
        {
          "output_type": "execute_result",
          "data": {
            "text/plain": [
              "'2.3.0+cu121'"
            ],
            "application/vnd.google.colaboratory.intrinsic+json": {
              "type": "string"
            }
          },
          "metadata": {},
          "execution_count": 1
        }
      ]
    },
    {
      "cell_type": "markdown",
      "source": [
        "## 1. Data (preparing and loading)\n",
        "\n",
        "Data can be almost anything ... in ML\n",
        "\n",
        "* Excel spreadhseet\n",
        "* Images of any kind\n",
        "* Vidoes (YouTube has lots of data)\n",
        "* Audio like songs or podcasts\n",
        "* DNA\n",
        "* Text\n",
        "\n",
        "Machine learning ia a game of two parts\n",
        "\n",
        "1.  Get data into a numerical representation\n",
        "2.  Build a model to learn patterns in that numercial representation\n",
        "\n",
        "To showxase this, lets create some *known* data using the linear regression formula\n",
        "\n",
        "We'll use a linear regression formula to make a staright line with *known* **parameters**."
      ],
      "metadata": {
        "id": "mw4JkPRdHzF3"
      }
    },
    {
      "cell_type": "code",
      "source": [
        "# Create *known* parameters\n",
        "weight=0.7\n",
        "bias=0.3\n",
        "\n",
        "#Create\n",
        "start=0;\n",
        "end=1;\n",
        "step=0.02\n",
        "X=torch.arange(start,end,step).unsqueeze(dim=1)\n",
        "y=weight*X+bias\n",
        "\n",
        "X[:10], y[:10]"
      ],
      "metadata": {
        "colab": {
          "base_uri": "https://localhost:8080/"
        },
        "id": "NMgRuZHfIZZS",
        "outputId": "46ccce00-77b5-41ca-b0d1-b42bacc408a2"
      },
      "execution_count": 2,
      "outputs": [
        {
          "output_type": "execute_result",
          "data": {
            "text/plain": [
              "(tensor([[0.0000],\n",
              "         [0.0200],\n",
              "         [0.0400],\n",
              "         [0.0600],\n",
              "         [0.0800],\n",
              "         [0.1000],\n",
              "         [0.1200],\n",
              "         [0.1400],\n",
              "         [0.1600],\n",
              "         [0.1800]]),\n",
              " tensor([[0.3000],\n",
              "         [0.3140],\n",
              "         [0.3280],\n",
              "         [0.3420],\n",
              "         [0.3560],\n",
              "         [0.3700],\n",
              "         [0.3840],\n",
              "         [0.3980],\n",
              "         [0.4120],\n",
              "         [0.4260]]))"
            ]
          },
          "metadata": {},
          "execution_count": 2
        }
      ]
    },
    {
      "cell_type": "markdown",
      "source": [
        "### Splitting data into trining and test sets (one of the most importantconcepts in ML in general)\n",
        "\n",
        "Lets create training and testing data\n",
        "sckit can also be used to randomly split the data"
      ],
      "metadata": {
        "id": "R4dm2Qf4Jrdd"
      }
    },
    {
      "cell_type": "code",
      "source": [
        "# Create a train/test split\n",
        "\n",
        "train_split=int(0.8 * len(X))\n",
        "X_train,y_train=X[:train_split], y[: train_split]\n",
        "X_test,y_test=X[train_split:], y[train_split:]\n",
        "\n",
        "len(X_train), len(y_train), len(X_test), len(y_test)"
      ],
      "metadata": {
        "colab": {
          "base_uri": "https://localhost:8080/"
        },
        "id": "zi68MNqAK6Pf",
        "outputId": "6c51d8c7-16c6-441e-f5da-5c1d0c83e3d2"
      },
      "execution_count": 3,
      "outputs": [
        {
          "output_type": "execute_result",
          "data": {
            "text/plain": [
              "(40, 40, 10, 10)"
            ]
          },
          "metadata": {},
          "execution_count": 3
        }
      ]
    },
    {
      "cell_type": "markdown",
      "source": [
        "How might we better visualize aur data?\n",
        "\n",
        "This is where the data explorer's motto comes in !'\n",
        "\"Visualize!\""
      ],
      "metadata": {
        "id": "6Nvy_e_eMdJU"
      }
    },
    {
      "cell_type": "code",
      "source": [
        "def plot_predictions(train_data=X_train, train_labels=y_train,\n",
        "                     test_data=X_test, test_lables=y_test,predictions=None):\n",
        "  \"\"\"\n",
        "  Plots traning data, test data and compare predcitions\n",
        "  \"\"\"\n",
        "  plt.figure(figsize=(10,7))\n",
        "\n",
        "  #Plot traning data in blue\n",
        "  plt.scatter(train_data, train_labels,c=\"b\",s=4, label=\"Traning data\")\n",
        "\n",
        "  #Plot traning data in green\n",
        "  plt.scatter(test_data, test_lables,c=\"g\",s=4, label=\"Testing data\")\n",
        "\n",
        "  # Are there predictions?\n",
        "  if predictions is not None:\n",
        "    #Plot the predictions if they exists\n",
        "    plt.scatter(test_data,predictions,c=\"r\",s=4, label=\"Predictions\")\n",
        "\n",
        "  #Show the legend\n",
        "  plt.legend(prop={\"size\":14})\n",
        "\n"
      ],
      "metadata": {
        "id": "0XKdQxH3MsJT"
      },
      "execution_count": 4,
      "outputs": []
    },
    {
      "cell_type": "code",
      "source": [
        "plot_predictions()"
      ],
      "metadata": {
        "colab": {
          "base_uri": "https://localhost:8080/",
          "height": 471
        },
        "id": "UnzcyCke7UdO",
        "outputId": "fdba58bd-6f05-47d0-da43-9a5dcf10ef97"
      },
      "execution_count": 5,
      "outputs": [
        {
          "output_type": "display_data",
          "data": {
            "text/plain": [
              "<Figure size 1000x700 with 1 Axes>"
            ],
            "image/png": "[encoded data removed]"
          },
          "metadata": {}
        }
      ]
    },
    {
      "cell_type": "markdown",
      "source": [
        "## 2. Build Model\n",
        "\n",
        "Our first Model\n",
        "\n",
        "What our model does:\n",
        "* Start with random values (weight & bias)\n",
        "* Look at training data and adjust the random values to better represent (or to get closer to) the ideal values (the weight & bias values we used to create the data)\n",
        "\n",
        "How does it do so?\n",
        "\n",
        "Throught two main algos:\n",
        "1. Gradiesnt descent\n",
        "2. Backpropagation"
      ],
      "metadata": {
        "id": "W9dLqU-c74ge"
      }
    },
    {
      "cell_type": "code",
      "source": [
        "# Create linear regression model class\n",
        "\n",
        "class LinearRegressionModel(nn.Module): ## <- almost everything in PyTorch inherits from nn.Module\n",
        "  def __init__(self):\n",
        "    super().__init__()\n",
        "    self.weights=nn.Parameter(torch.randn(1,requires_grad=True,\n",
        "                                          dtype=torch.float))\n",
        "    self.bias=nn.Parameter(torch.randn(1,requires_grad=True,dtype=torch.float))\n",
        "\n",
        "    #Forward method to define the computation in the model\n",
        "  def forward(self, x: torch.Tensor) ->torch.Tensor: #x is input data\n",
        "    return self.weights*x +self.bias\n",
        "\n",
        "\n",
        "\n",
        "\n"
      ],
      "metadata": {
        "id": "C3fnd2U39uBO"
      },
      "execution_count": 6,
      "outputs": []
    },
    {
      "cell_type": "markdown",
      "source": [
        "### PyTorch model builing essentials\n",
        "\n",
        "1. torch.nn -> contains all the builing blocks for computational graphs ) a neural netowkr can be considered computational graph)\n",
        "2. torch.Parameter -> what parameters should our model try and learn, often a Pytorch layer from torch.nn will set these for us\n",
        "3. torch.nn.Module -> base class for all neural networks, if you subclass it, you should override forward()\n",
        "4. torch.optim -> this where the optimizers in PyTorch live, they will help with graident descent\n",
        "5. def forward() -> All nn.module subclass requires you to overide  forward(), this method defines what happens in the forward computation\n",
        "6. torch.utils.data.Dataset\n",
        "7. torch.utils.data.DataLoader\n",
        "8. torchvision.transforms (later in CV)\n",
        "9. torchvision.models\n",
        "10. torchmetrics\n",
        "11. torch.utils.tensorboard\n"
      ],
      "metadata": {
        "id": "qmfUwValqGdh"
      }
    },
    {
      "cell_type": "markdown",
      "source": [
        "### Checking the contents of the PyTorch model\n",
        "\n",
        "So we can check our model praramters or whats inside our model using .paramaters()"
      ],
      "metadata": {
        "id": "Wsjpvpegrb_n"
      }
    },
    {
      "cell_type": "code",
      "source": [
        "# Create a random seed\n",
        "torch.manual_seed(42)\n",
        "\n",
        "# Create an instance of the model (this is a subclass of nn.Module)\n",
        "model_0=LinearRegressionModel()\n",
        "\n",
        "list(model_0.parameters())"
      ],
      "metadata": {
        "id": "Xd4RcsLqtAYk",
        "outputId": "25ae7442-42e4-4d74-cce2-ceaf39c52cc9",
        "colab": {
          "base_uri": "https://localhost:8080/"
        }
      },
      "execution_count": 8,
      "outputs": [
        {
          "output_type": "execute_result",
          "data": {
            "text/plain": [
              "[Parameter containing:\n",
              " tensor([0.3367], requires_grad=True),\n",
              " Parameter containing:\n",
              " tensor([0.1288], requires_grad=True)]"
            ]
          },
          "metadata": {},
          "execution_count": 8
        }
      ]
    },
    {
      "cell_type": "code",
      "source": [
        "# List named paramters\n",
        "model_0.state_dict()"
      ],
      "metadata": {
        "id": "zVtFn5rEtVoq",
        "outputId": "98339c5e-c01e-4b5a-b944-ea2592b95f71",
        "colab": {
          "base_uri": "https://localhost:8080/"
        }
      },
      "execution_count": 9,
      "outputs": [
        {
          "output_type": "execute_result",
          "data": {
            "text/plain": [
              "OrderedDict([('weights', tensor([0.3367])), ('bias', tensor([0.1288]))])"
            ]
          },
          "metadata": {},
          "execution_count": 9
        }
      ]
    },
    {
      "cell_type": "markdown",
      "source": [
        "### Making prediction using `torch.inference_mode()`\n",
        "\n",
        "to check our model's predictive power, let's see how well it predicts `y_test`\n",
        "based on `X_test`\n",
        "\n",
        "When we pass data through our model it is going to run it through forward method"
      ],
      "metadata": {
        "id": "x49u-UrduPy5"
      }
    },
    {
      "cell_type": "code",
      "source": [
        "# Make predictions with model\n",
        "\n",
        "with torch.inference_mode():\n",
        "  y_preds=model_0(X_test)\n",
        "\n",
        "# You can also do something similar with torch.no_grad(), however, inference mode is preferred\n",
        "# with torch.no_grad():\n",
        "#   y_preds=model_0(X_test)\n",
        "\n",
        "y_preds"
      ],
      "metadata": {
        "id": "uj2IO1M3vBxg",
        "outputId": "ae9c8f6f-9a2a-494f-b4d6-8f900219566e",
        "colab": {
          "base_uri": "https://localhost:8080/"
        }
      },
      "execution_count": 14,
      "outputs": [
        {
          "output_type": "execute_result",
          "data": {
            "text/plain": [
              "tensor([[0.3982],\n",
              "        [0.4049],\n",
              "        [0.4116],\n",
              "        [0.4184],\n",
              "        [0.4251],\n",
              "        [0.4318],\n",
              "        [0.4386],\n",
              "        [0.4453],\n",
              "        [0.4520],\n",
              "        [0.4588]])"
            ]
          },
          "metadata": {},
          "execution_count": 14
        }
      ]
    },
    {
      "cell_type": "code",
      "source": [
        "y_test"
      ],
      "metadata": {
        "id": "CQzHRn9FvhQ0",
        "outputId": "f2c4c425-ff09-493d-8908-19c0fcb89ef6",
        "colab": {
          "base_uri": "https://localhost:8080/"
        }
      },
      "execution_count": 12,
      "outputs": [
        {
          "output_type": "execute_result",
          "data": {
            "text/plain": [
              "tensor([[0.8600],\n",
              "        [0.8740],\n",
              "        [0.8880],\n",
              "        [0.9020],\n",
              "        [0.9160],\n",
              "        [0.9300],\n",
              "        [0.9440],\n",
              "        [0.9580],\n",
              "        [0.9720],\n",
              "        [0.9860]])"
            ]
          },
          "metadata": {},
          "execution_count": 12
        }
      ]
    },
    {
      "cell_type": "code",
      "source": [
        "plot_predictions(predictions=y_preds)"
      ],
      "metadata": {
        "id": "lwDTtmJjvs_i",
        "outputId": "cd121b2a-4da6-48a2-c2be-807ec44169c4",
        "colab": {
          "base_uri": "https://localhost:8080/",
          "height": 471
        }
      },
      "execution_count": 13,
      "outputs": [
        {
          "output_type": "display_data",
          "data": {
            "text/plain": [
              "<Figure size 1000x700 with 1 Axes>"
            ],
            "image/png": "[encoded data removed]"
          },
          "metadata": {}
        }
      ]
    },
    {
      "cell_type": "markdown",
      "source": [
        "## 3. Train model\n",
        "\n",
        "The whole idea of traning is for a model to move from some *unknown* parameters\n",
        "(these may be random) to *known* paramters.\n",
        "Or\n",
        "From a poor reprsentation of the data to a batter representation of the data_parallel\n",
        "\n",
        "One way to measure how poor or how wrong your models predictions are is to use a\n",
        "loss function.\n",
        "\n",
        "*Note* : Loss func may also be called cost func or criterion in diff areas. For our case, we're going to refer to it as a loss function.\n",
        "\n",
        "This we need to train-\n",
        "\n",
        "* **Loss function:** A function to measure how wrong your model's predictions are to the ideal outputs, lower is better\n",
        "\n",
        "* **Optimizer:** Takes into account the loss of a model and adjusts the model's paramters (eg weight and bias in our case) to improve the loss func.\n",
        "\n",
        "Ans specifically for PyTorch, we need:\n",
        "\n",
        "* A traning loop\n",
        "* A testing loop\n"
      ],
      "metadata": {
        "id": "DnD9KeD3vzCY"
      }
    },
    {
      "cell_type": "code",
      "source": [
        "model_0.state_dict()"
      ],
      "metadata": {
        "id": "uQpvTkMRydH3",
        "outputId": "624e38d0-ed4e-4311-cac6-576f4636151e",
        "colab": {
          "base_uri": "https://localhost:8080/"
        }
      },
      "execution_count": 15,
      "outputs": [
        {
          "output_type": "execute_result",
          "data": {
            "text/plain": [
              "OrderedDict([('weights', tensor([0.3367])), ('bias', tensor([0.1288]))])"
            ]
          },
          "metadata": {},
          "execution_count": 15
        }
      ]
    },
    {
      "cell_type": "code",
      "source": [],
      "metadata": {
        "id": "zIVajOqZy5Iz"
      },
      "execution_count": null,
      "outputs": []
    }
  ]
}
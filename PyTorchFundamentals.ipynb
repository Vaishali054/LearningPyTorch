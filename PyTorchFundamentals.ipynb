{
  "nbformat": 4,
  "nbformat_minor": 0,
  "metadata": {
    "colab": {
      "provenance": [],
      "authorship_tag": "ABX9TyPmoLrJ3o7bbXIfxnsWIHAB"
    },
    "kernelspec": {
      "name": "python3",
      "display_name": "Python 3"
    },
    "language_info": {
      "name": "python"
    }
  },
  "cells": [
    {
      "cell_type": "code",
      "execution_count": 26,
      "metadata": {
        "id": "JVMhDb-J4qDE"
      },
      "outputs": [],
      "source": [
        "## All the tensor stuff got deleted :)\n",
        "## moving on to next phase"
      ]
    },
    {
      "cell_type": "markdown",
      "source": [
        "Covered scalar, vector, matrix tensors, range in tensors, steps, zeros, ones, range alike"
      ],
      "metadata": {
        "id": "qlAN6nfvJF47"
      }
    },
    {
      "cell_type": "markdown",
      "source": [
        "# Tensor Data Types"
      ],
      "metadata": {
        "id": "i-1zJrydJfZd"
      }
    },
    {
      "cell_type": "code",
      "source": [
        "import torch as torch\n",
        "float_32_tensor=torch.tensor([3.0,6.0,9.0], dtype=None)\n",
        "float_32_tensor"
      ],
      "metadata": {
        "id": "C3xdFLz-Jh3Q",
        "outputId": "64341603-3ac6-49a8-c60c-22c5e77167de",
        "colab": {
          "base_uri": "https://localhost:8080/"
        }
      },
      "execution_count": 29,
      "outputs": [
        {
          "output_type": "execute_result",
          "data": {
            "text/plain": [
              "tensor([3., 6., 9.])"
            ]
          },
          "metadata": {},
          "execution_count": 29
        }
      ]
    },
    {
      "cell_type": "code",
      "source": [
        "float_32_tensor=torch.tensor([3.0,6.0,9.0], dtype=torch.float16)\n",
        "float_32_tensor"
      ],
      "metadata": {
        "id": "2-sv79ZKJ43H",
        "outputId": "de315ea5-5167-42ed-abff-32fbf86905a6",
        "colab": {
          "base_uri": "https://localhost:8080/"
        }
      },
      "execution_count": 30,
      "outputs": [
        {
          "output_type": "execute_result",
          "data": {
            "text/plain": [
              "tensor([3., 6., 9.], dtype=torch.float16)"
            ]
          },
          "metadata": {},
          "execution_count": 30
        }
      ]
    },
    {
      "cell_type": "code",
      "source": [
        "float_32_tensor=torch.tensor([3.0,6.0,9.0], dtype=None #data type of tensor (eg float16 or float 32)\n",
        "                             , device=None,\n",
        "                             requires_grad=False) #  whether not to track gradients with this tensor gradients\n",
        "float_32_tensor"
      ],
      "metadata": {
        "id": "z6YjbPGIKEZ9",
        "outputId": "8f2c21fa-bdb5-4e1c-f0d5-a880a5aad147",
        "colab": {
          "base_uri": "https://localhost:8080/"
        }
      },
      "execution_count": 33,
      "outputs": [
        {
          "output_type": "execute_result",
          "data": {
            "text/plain": [
              "tensor([3., 6., 9.])"
            ]
          },
          "metadata": {},
          "execution_count": 33
        }
      ]
    },
    {
      "cell_type": "code",
      "source": [
        "float_32_tensor.dtype"
      ],
      "metadata": {
        "id": "VH2tJ10wMK9R",
        "outputId": "ed8f727b-cb13-4ad9-f5fc-2731d41d8189",
        "colab": {
          "base_uri": "https://localhost:8080/"
        }
      },
      "execution_count": 34,
      "outputs": [
        {
          "output_type": "execute_result",
          "data": {
            "text/plain": [
              "torch.float32"
            ]
          },
          "metadata": {},
          "execution_count": 34
        }
      ]
    },
    {
      "cell_type": "code",
      "source": [
        "float_16_tensor=float_32_tensor.type(torch.float16)"
      ],
      "metadata": {
        "id": "e009xwFUMhKD"
      },
      "execution_count": 35,
      "outputs": []
    },
    {
      "cell_type": "code",
      "source": [
        "float_16_tensor\n"
      ],
      "metadata": {
        "id": "q-2NSTNhMpsk",
        "outputId": "07668e22-e26d-4f02-b66c-083796ac4ed7",
        "colab": {
          "base_uri": "https://localhost:8080/"
        }
      },
      "execution_count": 36,
      "outputs": [
        {
          "output_type": "execute_result",
          "data": {
            "text/plain": [
              "tensor([3., 6., 9.], dtype=torch.float16)"
            ]
          },
          "metadata": {},
          "execution_count": 36
        }
      ]
    },
    {
      "cell_type": "code",
      "source": [
        "float_16_tensor* float_32_tensor #sometimes it can throw error, you can never be sure"
      ],
      "metadata": {
        "id": "8tne58eSMsGk",
        "outputId": "feb37aa3-c98e-404c-e187-a761df07cffe",
        "colab": {
          "base_uri": "https://localhost:8080/"
        }
      },
      "execution_count": 37,
      "outputs": [
        {
          "output_type": "execute_result",
          "data": {
            "text/plain": [
              "tensor([ 9., 36., 81.])"
            ]
          },
          "metadata": {},
          "execution_count": 37
        }
      ]
    },
    {
      "cell_type": "code",
      "source": [
        "# Create a tensor\n",
        "\n",
        "some_tensor=torch.rand(3,4)\n",
        "some_tensor"
      ],
      "metadata": {
        "id": "O10nJEzZMxxm",
        "outputId": "6a40040f-bead-4bd4-845f-b3e7bd290a61",
        "colab": {
          "base_uri": "https://localhost:8080/"
        }
      },
      "execution_count": 39,
      "outputs": [
        {
          "output_type": "execute_result",
          "data": {
            "text/plain": [
              "tensor([[0.6947, 0.9060, 0.2111, 0.8676],\n",
              "        [0.0768, 0.9601, 0.3705, 0.8919],\n",
              "        [0.8359, 0.3498, 0.2263, 0.4970]])"
            ]
          },
          "metadata": {},
          "execution_count": 39
        }
      ]
    },
    {
      "cell_type": "code",
      "source": [
        "print(some_tensor)\n",
        "print(some_tensor.shape)"
      ],
      "metadata": {
        "id": "N3cT2EIVNi7Z",
        "outputId": "4ce646b5-9567-49aa-dcd8-9eadf860b3f5",
        "colab": {
          "base_uri": "https://localhost:8080/"
        }
      },
      "execution_count": 40,
      "outputs": [
        {
          "output_type": "stream",
          "name": "stdout",
          "text": [
            "tensor([[0.6947, 0.9060, 0.2111, 0.8676],\n",
            "        [0.0768, 0.9601, 0.3705, 0.8919],\n",
            "        [0.8359, 0.3498, 0.2263, 0.4970]])\n",
            "torch.Size([3, 4])\n"
          ]
        }
      ]
    },
    {
      "cell_type": "code",
      "source": [
        "some_tensor.size()"
      ],
      "metadata": {
        "id": "MzFULu4zNrr7",
        "outputId": "da39f9a1-f3e3-43d4-c6b1-5cf3e6da1dd2",
        "colab": {
          "base_uri": "https://localhost:8080/"
        }
      },
      "execution_count": 41,
      "outputs": [
        {
          "output_type": "execute_result",
          "data": {
            "text/plain": [
              "torch.Size([3, 4])"
            ]
          },
          "metadata": {},
          "execution_count": 41
        }
      ]
    },
    {
      "cell_type": "code",
      "source": [
        "some_tensor.dtype"
      ],
      "metadata": {
        "id": "hmFmMrD1N7Hi",
        "outputId": "737d902f-d1c0-43f6-e339-1fa4c3d90cd0",
        "colab": {
          "base_uri": "https://localhost:8080/"
        }
      },
      "execution_count": 42,
      "outputs": [
        {
          "output_type": "execute_result",
          "data": {
            "text/plain": [
              "torch.float32"
            ]
          },
          "metadata": {},
          "execution_count": 42
        }
      ]
    },
    {
      "cell_type": "code",
      "source": [
        "some_tensor.device"
      ],
      "metadata": {
        "id": "db-HYsCiN_TQ",
        "outputId": "389c4e95-3b82-4213-cbaf-503ce097e76e",
        "colab": {
          "base_uri": "https://localhost:8080/"
        }
      },
      "execution_count": 43,
      "outputs": [
        {
          "output_type": "execute_result",
          "data": {
            "text/plain": [
              "device(type='cpu')"
            ]
          },
          "metadata": {},
          "execution_count": 43
        }
      ]
    },
    {
      "cell_type": "code",
      "source": [],
      "metadata": {
        "id": "lWq1oKn7OKBu"
      },
      "execution_count": null,
      "outputs": []
    }
  ]
}
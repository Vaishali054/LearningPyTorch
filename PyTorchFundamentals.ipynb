{
  "nbformat": 4,
  "nbformat_minor": 0,
  "metadata": {
    "colab": {
      "provenance": [],
      "authorship_tag": "ABX9TyPW/ZBkKtK+nwFq5vW6GumV"
    },
    "kernelspec": {
      "name": "python3",
      "display_name": "Python 3"
    },
    "language_info": {
      "name": "python"
    }
  },
  "cells": [
    {
      "cell_type": "code",
      "execution_count": null,
      "metadata": {
        "id": "JVMhDb-J4qDE"
      },
      "outputs": [],
      "source": [
        "## All the tensor stuff got deleted :)\n",
        "## moving on to next phase"
      ]
    },
    {
      "cell_type": "markdown",
      "source": [
        "Covered scalar, vector, matrix tensors, range in tensors, steps, zeros, ones, range alike"
      ],
      "metadata": {
        "id": "qlAN6nfvJF47"
      }
    },
    {
      "cell_type": "markdown",
      "source": [
        "# Tensor Data Types"
      ],
      "metadata": {
        "id": "i-1zJrydJfZd"
      }
    },
    {
      "cell_type": "code",
      "source": [
        "import torch as torch\n",
        "float_32_tensor=torch.tensor([3.0,6.0,9.0], dtype=None)\n",
        "float_32_tensor"
      ],
      "metadata": {
        "colab": {
          "base_uri": "https://localhost:8080/"
        },
        "id": "C3xdFLz-Jh3Q",
        "outputId": "64341603-3ac6-49a8-c60c-22c5e77167de"
      },
      "execution_count": null,
      "outputs": [
        {
          "output_type": "execute_result",
          "data": {
            "text/plain": [
              "tensor([3., 6., 9.])"
            ]
          },
          "metadata": {},
          "execution_count": 29
        }
      ]
    },
    {
      "cell_type": "code",
      "source": [
        "float_32_tensor=torch.tensor([3.0,6.0,9.0], dtype=torch.float16)\n",
        "float_32_tensor"
      ],
      "metadata": {
        "colab": {
          "base_uri": "https://localhost:8080/"
        },
        "id": "2-sv79ZKJ43H",
        "outputId": "de315ea5-5167-42ed-abff-32fbf86905a6"
      },
      "execution_count": null,
      "outputs": [
        {
          "output_type": "execute_result",
          "data": {
            "text/plain": [
              "tensor([3., 6., 9.], dtype=torch.float16)"
            ]
          },
          "metadata": {},
          "execution_count": 30
        }
      ]
    },
    {
      "cell_type": "code",
      "source": [
        "float_32_tensor=torch.tensor([3.0,6.0,9.0], dtype=None #data type of tensor (eg float16 or float 32)\n",
        "                             , device=None,\n",
        "                             requires_grad=False) #  whether not to track gradients with this tensor gradients\n",
        "float_32_tensor"
      ],
      "metadata": {
        "colab": {
          "base_uri": "https://localhost:8080/"
        },
        "id": "z6YjbPGIKEZ9",
        "outputId": "8f2c21fa-bdb5-4e1c-f0d5-a880a5aad147"
      },
      "execution_count": null,
      "outputs": [
        {
          "output_type": "execute_result",
          "data": {
            "text/plain": [
              "tensor([3., 6., 9.])"
            ]
          },
          "metadata": {},
          "execution_count": 33
        }
      ]
    },
    {
      "cell_type": "code",
      "source": [
        "float_32_tensor.dtype"
      ],
      "metadata": {
        "colab": {
          "base_uri": "https://localhost:8080/"
        },
        "id": "VH2tJ10wMK9R",
        "outputId": "ed8f727b-cb13-4ad9-f5fc-2731d41d8189"
      },
      "execution_count": null,
      "outputs": [
        {
          "output_type": "execute_result",
          "data": {
            "text/plain": [
              "torch.float32"
            ]
          },
          "metadata": {},
          "execution_count": 34
        }
      ]
    },
    {
      "cell_type": "code",
      "source": [
        "float_16_tensor=float_32_tensor.type(torch.float16)"
      ],
      "metadata": {
        "id": "e009xwFUMhKD"
      },
      "execution_count": null,
      "outputs": []
    },
    {
      "cell_type": "code",
      "source": [
        "float_16_tensor\n"
      ],
      "metadata": {
        "colab": {
          "base_uri": "https://localhost:8080/"
        },
        "id": "q-2NSTNhMpsk",
        "outputId": "07668e22-e26d-4f02-b66c-083796ac4ed7"
      },
      "execution_count": null,
      "outputs": [
        {
          "output_type": "execute_result",
          "data": {
            "text/plain": [
              "tensor([3., 6., 9.], dtype=torch.float16)"
            ]
          },
          "metadata": {},
          "execution_count": 36
        }
      ]
    },
    {
      "cell_type": "code",
      "source": [
        "float_16_tensor* float_32_tensor #sometimes it can throw error, you can never be sure"
      ],
      "metadata": {
        "colab": {
          "base_uri": "https://localhost:8080/"
        },
        "id": "8tne58eSMsGk",
        "outputId": "feb37aa3-c98e-404c-e187-a761df07cffe"
      },
      "execution_count": null,
      "outputs": [
        {
          "output_type": "execute_result",
          "data": {
            "text/plain": [
              "tensor([ 9., 36., 81.])"
            ]
          },
          "metadata": {},
          "execution_count": 37
        }
      ]
    },
    {
      "cell_type": "code",
      "source": [
        "# Create a tensor\n",
        "\n",
        "some_tensor=torch.rand(3,4)\n",
        "some_tensor"
      ],
      "metadata": {
        "colab": {
          "base_uri": "https://localhost:8080/"
        },
        "id": "O10nJEzZMxxm",
        "outputId": "6a40040f-bead-4bd4-845f-b3e7bd290a61"
      },
      "execution_count": null,
      "outputs": [
        {
          "output_type": "execute_result",
          "data": {
            "text/plain": [
              "tensor([[0.6947, 0.9060, 0.2111, 0.8676],\n",
              "        [0.0768, 0.9601, 0.3705, 0.8919],\n",
              "        [0.8359, 0.3498, 0.2263, 0.4970]])"
            ]
          },
          "metadata": {},
          "execution_count": 39
        }
      ]
    },
    {
      "cell_type": "code",
      "source": [
        "print(some_tensor)\n",
        "print(some_tensor.shape)"
      ],
      "metadata": {
        "colab": {
          "base_uri": "https://localhost:8080/"
        },
        "id": "N3cT2EIVNi7Z",
        "outputId": "4ce646b5-9567-49aa-dcd8-9eadf860b3f5"
      },
      "execution_count": null,
      "outputs": [
        {
          "output_type": "stream",
          "name": "stdout",
          "text": [
            "tensor([[0.6947, 0.9060, 0.2111, 0.8676],\n",
            "        [0.0768, 0.9601, 0.3705, 0.8919],\n",
            "        [0.8359, 0.3498, 0.2263, 0.4970]])\n",
            "torch.Size([3, 4])\n"
          ]
        }
      ]
    },
    {
      "cell_type": "code",
      "source": [
        "some_tensor.size()"
      ],
      "metadata": {
        "colab": {
          "base_uri": "https://localhost:8080/"
        },
        "id": "MzFULu4zNrr7",
        "outputId": "da39f9a1-f3e3-43d4-c6b1-5cf3e6da1dd2"
      },
      "execution_count": null,
      "outputs": [
        {
          "output_type": "execute_result",
          "data": {
            "text/plain": [
              "torch.Size([3, 4])"
            ]
          },
          "metadata": {},
          "execution_count": 41
        }
      ]
    },
    {
      "cell_type": "code",
      "source": [
        "some_tensor.dtype"
      ],
      "metadata": {
        "colab": {
          "base_uri": "https://localhost:8080/"
        },
        "id": "hmFmMrD1N7Hi",
        "outputId": "737d902f-d1c0-43f6-e339-1fa4c3d90cd0"
      },
      "execution_count": null,
      "outputs": [
        {
          "output_type": "execute_result",
          "data": {
            "text/plain": [
              "torch.float32"
            ]
          },
          "metadata": {},
          "execution_count": 42
        }
      ]
    },
    {
      "cell_type": "code",
      "source": [
        "some_tensor.device"
      ],
      "metadata": {
        "colab": {
          "base_uri": "https://localhost:8080/"
        },
        "id": "db-HYsCiN_TQ",
        "outputId": "389c4e95-3b82-4213-cbaf-503ce097e76e"
      },
      "execution_count": null,
      "outputs": [
        {
          "output_type": "execute_result",
          "data": {
            "text/plain": [
              "device(type='cpu')"
            ]
          },
          "metadata": {},
          "execution_count": 43
        }
      ]
    },
    {
      "cell_type": "code",
      "source": [],
      "metadata": {
        "id": "lWq1oKn7OKBu"
      },
      "execution_count": null,
      "outputs": []
    },
    {
      "cell_type": "markdown",
      "source": [
        "Manipulating Tensors (Tensors Operations)\n",
        "\n",
        "\n",
        "*   addition\n",
        "*   subtraction\n",
        "*   multiplication\n",
        "*   division\n",
        "*   matrix multiplication\n",
        "\n",
        "\n",
        "\n"
      ],
      "metadata": {
        "id": "OJJPPFePOau_"
      }
    },
    {
      "cell_type": "code",
      "source": [
        "# create a tensor\n",
        "tensor=torch.tensor([1,2,3])\n",
        "tensor+10\n"
      ],
      "metadata": {
        "id": "1veULwCfOrCm",
        "outputId": "cb8e9164-95f3-4270-f970-2a79e4806300",
        "colab": {
          "base_uri": "https://localhost:8080/"
        }
      },
      "execution_count": null,
      "outputs": [
        {
          "output_type": "execute_result",
          "data": {
            "text/plain": [
              "tensor([11, 12, 13])"
            ]
          },
          "metadata": {},
          "execution_count": 44
        }
      ]
    },
    {
      "cell_type": "code",
      "source": [
        "tensor*10"
      ],
      "metadata": {
        "id": "V8yc9TUdOySQ",
        "outputId": "b5ce8561-5f32-4acc-a6a6-90c25cb3b982",
        "colab": {
          "base_uri": "https://localhost:8080/"
        }
      },
      "execution_count": null,
      "outputs": [
        {
          "output_type": "execute_result",
          "data": {
            "text/plain": [
              "tensor([10, 20, 30])"
            ]
          },
          "metadata": {},
          "execution_count": 45
        }
      ]
    },
    {
      "cell_type": "code",
      "source": [
        "tensor/10"
      ],
      "metadata": {
        "id": "VvGg8o39O0gW",
        "outputId": "3ceb64a5-e44d-4c49-9085-1984b7736dc4",
        "colab": {
          "base_uri": "https://localhost:8080/"
        }
      },
      "execution_count": null,
      "outputs": [
        {
          "output_type": "execute_result",
          "data": {
            "text/plain": [
              "tensor([0.1000, 0.2000, 0.3000])"
            ]
          },
          "metadata": {},
          "execution_count": 46
        }
      ]
    },
    {
      "cell_type": "code",
      "source": [
        "tensor-10"
      ],
      "metadata": {
        "id": "bbZUgRV0O3Cx",
        "outputId": "36a87793-4322-4172-e273-fa15ebe28f82",
        "colab": {
          "base_uri": "https://localhost:8080/"
        }
      },
      "execution_count": null,
      "outputs": [
        {
          "output_type": "execute_result",
          "data": {
            "text/plain": [
              "tensor([-9, -8, -7])"
            ]
          },
          "metadata": {},
          "execution_count": 47
        }
      ]
    },
    {
      "cell_type": "code",
      "source": [
        "# Try out PyTorch in-built functions\n",
        "torch.mul(tensor,10)"
      ],
      "metadata": {
        "id": "hfKfZilWO7xS",
        "outputId": "1f10ac73-6fc0-4f73-91c0-f64eff7b982c",
        "colab": {
          "base_uri": "https://localhost:8080/"
        }
      },
      "execution_count": null,
      "outputs": [
        {
          "output_type": "execute_result",
          "data": {
            "text/plain": [
              "tensor([10, 20, 30])"
            ]
          },
          "metadata": {},
          "execution_count": 48
        }
      ]
    },
    {
      "cell_type": "code",
      "source": [
        "torch.add(tensor,20)"
      ],
      "metadata": {
        "id": "dJJgmij9PEYR",
        "outputId": "f5a31e0f-fe8b-4869-b0e6-2d244507574b",
        "colab": {
          "base_uri": "https://localhost:8080/"
        }
      },
      "execution_count": null,
      "outputs": [
        {
          "output_type": "execute_result",
          "data": {
            "text/plain": [
              "tensor([21, 22, 23])"
            ]
          },
          "metadata": {},
          "execution_count": 49
        }
      ]
    },
    {
      "cell_type": "code",
      "source": [
        "# Matrix multiplication\n",
        "# use this func instead of using loops, this func is implemented in optimizsed\n",
        "# form hence it is more fats\n",
        "torch.matmul(tensor,tensor)"
      ],
      "metadata": {
        "id": "SsxpV373PHzY",
        "outputId": "00cfb0f1-fea6-4955-b7da-de3db25eb209",
        "colab": {
          "base_uri": "https://localhost:8080/"
        }
      },
      "execution_count": null,
      "outputs": [
        {
          "output_type": "execute_result",
          "data": {
            "text/plain": [
              "tensor(14)"
            ]
          },
          "metadata": {},
          "execution_count": 51
        }
      ]
    },
    {
      "cell_type": "code",
      "source": [
        "# One of the most occuring error -> shape error,\n",
        "# @ -> also stands for matrix multiplications\n",
        "# while matrix multiplications, inner dimensions must match"
      ],
      "metadata": {
        "id": "yUBp6CYMP1DL"
      },
      "execution_count": null,
      "outputs": []
    },
    {
      "cell_type": "code",
      "source": [
        "#### The resulting matrix will have the outer dimensions"
      ],
      "metadata": {
        "id": "699_SzHHQ2UK"
      },
      "execution_count": null,
      "outputs": []
    },
    {
      "cell_type": "markdown",
      "source": [
        "# Dealing with shape Error"
      ],
      "metadata": {
        "id": "pdHHwI1fRfpz"
      }
    },
    {
      "cell_type": "code",
      "source": [
        "tensor_A=torch.tensor([[1,2],\n",
        "                      [3,4],\n",
        "                      [5,6]])\n",
        "\n",
        "tensor_b=torch.tensor([[7,10],\n",
        "                      [8,11],\n",
        "                      [9,12]])\n",
        "\n",
        "torch.mm(tensor_A, tensor_b)"
      ],
      "metadata": {
        "id": "MP1gPrNWRoTc",
        "outputId": "00c62f86-1b5a-487b-e0d1-14730dec6e54",
        "colab": {
          "base_uri": "https://localhost:8080/",
          "height": 176
        }
      },
      "execution_count": null,
      "outputs": [
        {
          "output_type": "error",
          "ename": "RuntimeError",
          "evalue": "mat1 and mat2 shapes cannot be multiplied (3x2 and 3x2)",
          "traceback": [
            "\u001b[0;31m---------------------------------------------------------------------------\u001b[0m",
            "\u001b[0;31mRuntimeError\u001b[0m                              Traceback (most recent call last)",
            "\u001b[0;32m<ipython-input-56-8950730ed2b6>\u001b[0m in \u001b[0;36m<cell line: 9>\u001b[0;34m()\u001b[0m\n\u001b[1;32m      7\u001b[0m                       [9,12]])\n\u001b[1;32m      8\u001b[0m \u001b[0;34m\u001b[0m\u001b[0m\n\u001b[0;32m----> 9\u001b[0;31m \u001b[0mtorch\u001b[0m\u001b[0;34m.\u001b[0m\u001b[0mmm\u001b[0m\u001b[0;34m(\u001b[0m\u001b[0mtensor_A\u001b[0m\u001b[0;34m,\u001b[0m \u001b[0mtensor_b\u001b[0m\u001b[0;34m)\u001b[0m\u001b[0;34m\u001b[0m\u001b[0;34m\u001b[0m\u001b[0m\n\u001b[0m",
            "\u001b[0;31mRuntimeError\u001b[0m: mat1 and mat2 shapes cannot be multiplied (3x2 and 3x2)"
          ]
        }
      ]
    },
    {
      "cell_type": "markdown",
      "source": [
        "### to fix the tensor shape issues we can manipulate the shape of one of our tensors using transpose"
      ],
      "metadata": {
        "id": "Gx-FM70_R_0a"
      }
    },
    {
      "cell_type": "code",
      "source": [
        "tensor_b.T"
      ],
      "metadata": {
        "id": "ddjCnMO6SYmy",
        "outputId": "0f990dca-e635-4eb2-df2e-2f5328decd4e",
        "colab": {
          "base_uri": "https://localhost:8080/"
        }
      },
      "execution_count": null,
      "outputs": [
        {
          "output_type": "execute_result",
          "data": {
            "text/plain": [
              "tensor([[ 7,  8,  9],\n",
              "        [10, 11, 12]])"
            ]
          },
          "metadata": {},
          "execution_count": 58
        }
      ]
    },
    {
      "cell_type": "code",
      "source": [
        "tensor_b.T.shape"
      ],
      "metadata": {
        "id": "recev36ZSsUS",
        "outputId": "564691b0-299b-4006-a90a-f700651fde82",
        "colab": {
          "base_uri": "https://localhost:8080/"
        }
      },
      "execution_count": null,
      "outputs": [
        {
          "output_type": "execute_result",
          "data": {
            "text/plain": [
              "torch.Size([2, 3])"
            ]
          },
          "metadata": {},
          "execution_count": 59
        }
      ]
    },
    {
      "cell_type": "code",
      "source": [
        "torch.mm(tensor_A, tensor_b.T)"
      ],
      "metadata": {
        "id": "VkFyhKEzSv0P",
        "outputId": "d7786abb-8fcf-451c-aae1-253a063e96e8",
        "colab": {
          "base_uri": "https://localhost:8080/"
        }
      },
      "execution_count": null,
      "outputs": [
        {
          "output_type": "execute_result",
          "data": {
            "text/plain": [
              "tensor([[ 27,  30,  33],\n",
              "        [ 61,  68,  75],\n",
              "        [ 95, 106, 117]])"
            ]
          },
          "metadata": {},
          "execution_count": 60
        }
      ]
    },
    {
      "cell_type": "markdown",
      "source": [
        "## Finding the min, amx, sum etc (Tensor aggreration)"
      ],
      "metadata": {
        "id": "9BG51iURS1Hi"
      }
    },
    {
      "cell_type": "code",
      "source": [
        "# Create a tensor\n",
        "import torch\n",
        "x=torch.arange(0,100,10)\n",
        "# Finding min\n",
        "torch.min(x)\n",
        "x.dtype\n"
      ],
      "metadata": {
        "colab": {
          "base_uri": "https://localhost:8080/"
        },
        "id": "AGlg6BmjTqiC",
        "outputId": "fdbace0b-5e9d-460a-cd9f-c53c5ceddac5"
      },
      "execution_count": 9,
      "outputs": [
        {
          "output_type": "execute_result",
          "data": {
            "text/plain": [
              "torch.int64"
            ]
          },
          "metadata": {},
          "execution_count": 9
        }
      ]
    },
    {
      "cell_type": "code",
      "source": [
        "x.min()"
      ],
      "metadata": {
        "colab": {
          "base_uri": "https://localhost:8080/"
        },
        "id": "A-HBdcU7T6Zc",
        "outputId": "6421e972-56f5-4454-f658-a798640b7283"
      },
      "execution_count": 4,
      "outputs": [
        {
          "output_type": "execute_result",
          "data": {
            "text/plain": [
              "tensor(0)"
            ]
          },
          "metadata": {},
          "execution_count": 4
        }
      ]
    },
    {
      "cell_type": "code",
      "source": [
        "# Finding max\n",
        "torch.max(x), x.max()"
      ],
      "metadata": {
        "colab": {
          "base_uri": "https://localhost:8080/"
        },
        "id": "lH6XrF6qUHi2",
        "outputId": "8bc6c535-2401-4341-ddab-946f6a370e97"
      },
      "execution_count": 5,
      "outputs": [
        {
          "output_type": "execute_result",
          "data": {
            "text/plain": [
              "(tensor(90), tensor(90))"
            ]
          },
          "metadata": {},
          "execution_count": 5
        }
      ]
    },
    {
      "cell_type": "code",
      "source": [
        "# Find the mean\n",
        "torch.mean(x)"
      ],
      "metadata": {
        "colab": {
          "base_uri": "https://localhost:8080/",
          "height": 176
        },
        "id": "U70CVUOdUS9h",
        "outputId": "864f0a2d-417d-4168-abd9-d0f6e3f6e383"
      },
      "execution_count": 6,
      "outputs": [
        {
          "output_type": "error",
          "ename": "RuntimeError",
          "evalue": "mean(): could not infer output dtype. Input dtype must be either a floating point or complex dtype. Got: Long",
          "traceback": [
            "\u001b[0;31m---------------------------------------------------------------------------\u001b[0m",
            "\u001b[0;31mRuntimeError\u001b[0m                              Traceback (most recent call last)",
            "\u001b[0;32m<ipython-input-6-7519b7c6f2fb>\u001b[0m in \u001b[0;36m<cell line: 2>\u001b[0;34m()\u001b[0m\n\u001b[1;32m      1\u001b[0m \u001b[0;31m# Find the mean\u001b[0m\u001b[0;34m\u001b[0m\u001b[0;34m\u001b[0m\u001b[0m\n\u001b[0;32m----> 2\u001b[0;31m \u001b[0mtorch\u001b[0m\u001b[0;34m.\u001b[0m\u001b[0mmean\u001b[0m\u001b[0;34m(\u001b[0m\u001b[0mx\u001b[0m\u001b[0;34m)\u001b[0m\u001b[0;34m\u001b[0m\u001b[0;34m\u001b[0m\u001b[0m\n\u001b[0m",
            "\u001b[0;31mRuntimeError\u001b[0m: mean(): could not infer output dtype. Input dtype must be either a floating point or complex dtype. Got: Long"
          ]
        }
      ]
    },
    {
      "cell_type": "code",
      "source": [
        "x.dtype"
      ],
      "metadata": {
        "colab": {
          "base_uri": "https://localhost:8080/"
        },
        "id": "Au51GGo4UY_C",
        "outputId": "f6a270a1-7580-4ad2-c077-6c6d7ebb4d04"
      },
      "execution_count": 10,
      "outputs": [
        {
          "output_type": "execute_result",
          "data": {
            "text/plain": [
              "torch.int64"
            ]
          },
          "metadata": {},
          "execution_count": 10
        }
      ]
    },
    {
      "cell_type": "code",
      "source": [
        "torch.mean(x.type(torch.float32))"
      ],
      "metadata": {
        "colab": {
          "base_uri": "https://localhost:8080/"
        },
        "id": "6IQFF_PvUeqj",
        "outputId": "7adb826f-533e-46e0-c587-8d69513a43a1"
      },
      "execution_count": 11,
      "outputs": [
        {
          "output_type": "execute_result",
          "data": {
            "text/plain": [
              "tensor(45.)"
            ]
          },
          "metadata": {},
          "execution_count": 11
        }
      ]
    },
    {
      "cell_type": "code",
      "source": [
        "x.type(torch.float32).mean()"
      ],
      "metadata": {
        "colab": {
          "base_uri": "https://localhost:8080/"
        },
        "id": "yV6LXQlLU8rZ",
        "outputId": "3e852d8d-689f-4fe9-818f-ddd396448be4"
      },
      "execution_count": 12,
      "outputs": [
        {
          "output_type": "execute_result",
          "data": {
            "text/plain": [
              "tensor(45.)"
            ]
          },
          "metadata": {},
          "execution_count": 12
        }
      ]
    },
    {
      "cell_type": "markdown",
      "source": [
        "## Finding the position min and max"
      ],
      "metadata": {
        "id": "975g6YSVVLRK"
      }
    },
    {
      "cell_type": "code",
      "source": [
        "# index where min val occures\n",
        "x.argmin()"
      ],
      "metadata": {
        "colab": {
          "base_uri": "https://localhost:8080/"
        },
        "id": "H3JGuIMTVbdd",
        "outputId": "64610a26-1ca6-43df-d39c-d2874f07c9a2"
      },
      "execution_count": 13,
      "outputs": [
        {
          "output_type": "execute_result",
          "data": {
            "text/plain": [
              "tensor(0)"
            ]
          },
          "metadata": {},
          "execution_count": 13
        }
      ]
    },
    {
      "cell_type": "code",
      "source": [
        "# index where max val occurs\n",
        "x.argmax()"
      ],
      "metadata": {
        "colab": {
          "base_uri": "https://localhost:8080/"
        },
        "id": "oZUmn8CDVd9-",
        "outputId": "88fd41b5-de07-44bf-e004-518ef593caed"
      },
      "execution_count": 14,
      "outputs": [
        {
          "output_type": "execute_result",
          "data": {
            "text/plain": [
              "tensor(9)"
            ]
          },
          "metadata": {},
          "execution_count": 14
        }
      ]
    },
    {
      "cell_type": "markdown",
      "source": [
        "## Reshaping, stacking, squeezong and unsequencing tensort\n",
        "\n",
        "1. Reshaping - reshapes an input tensor to defined shape\n",
        "2. View- Return a view of an input tensor of certain shape but keep the same\n",
        " memory as orginal tensor\n",
        "3. Stacking - combine mutiple tensors on top of each other or side\n",
        "by side (vstack, hstack)\n",
        "4. Squeeze- removed all `1` dimension from a tensor\n",
        "5. Unsqueeze- add a `1` dimension to a target tensor\n",
        "6. Permute- Return a view of the input with dimensions permuted (swapped) in a\n",
        " certain wau"
      ],
      "metadata": {
        "id": "0NjZ1CMXVgJa"
      }
    },
    {
      "cell_type": "code",
      "source": [
        "#Reshaping\n",
        "\n",
        "x= torch.arange(1.,10.)\n",
        "x, x.shape"
      ],
      "metadata": {
        "id": "axNs4ajRXLYc",
        "outputId": "150b5743-a0e3-4bf9-ae39-4427d23a2be3",
        "colab": {
          "base_uri": "https://localhost:8080/"
        }
      },
      "execution_count": 16,
      "outputs": [
        {
          "output_type": "execute_result",
          "data": {
            "text/plain": [
              "(tensor([1., 2., 3., 4., 5., 6., 7., 8., 9.]), torch.Size([9]))"
            ]
          },
          "metadata": {},
          "execution_count": 16
        }
      ]
    },
    {
      "cell_type": "code",
      "source": [
        "x_reshaped=x.reshape(1,7)\n",
        "x_reshaped,x_reshaped.shape"
      ],
      "metadata": {
        "id": "MJaoUaixXYG_",
        "outputId": "94395e63-933a-4a47-82f3-99390acf0d2b",
        "colab": {
          "base_uri": "https://localhost:8080/",
          "height": 158
        }
      },
      "execution_count": 17,
      "outputs": [
        {
          "output_type": "error",
          "ename": "RuntimeError",
          "evalue": "shape '[1, 7]' is invalid for input of size 9",
          "traceback": [
            "\u001b[0;31m---------------------------------------------------------------------------\u001b[0m",
            "\u001b[0;31mRuntimeError\u001b[0m                              Traceback (most recent call last)",
            "\u001b[0;32m<ipython-input-17-27fba43a2465>\u001b[0m in \u001b[0;36m<cell line: 1>\u001b[0;34m()\u001b[0m\n\u001b[0;32m----> 1\u001b[0;31m \u001b[0mx_reshaped\u001b[0m\u001b[0;34m=\u001b[0m\u001b[0mx\u001b[0m\u001b[0;34m.\u001b[0m\u001b[0mreshape\u001b[0m\u001b[0;34m(\u001b[0m\u001b[0;36m1\u001b[0m\u001b[0;34m,\u001b[0m\u001b[0;36m7\u001b[0m\u001b[0;34m)\u001b[0m\u001b[0;34m\u001b[0m\u001b[0;34m\u001b[0m\u001b[0m\n\u001b[0m\u001b[1;32m      2\u001b[0m \u001b[0mx_reshaped\u001b[0m\u001b[0;34m,\u001b[0m\u001b[0mx_reshaped\u001b[0m\u001b[0;34m.\u001b[0m\u001b[0mshape\u001b[0m\u001b[0;34m\u001b[0m\u001b[0;34m\u001b[0m\u001b[0m\n",
            "\u001b[0;31mRuntimeError\u001b[0m: shape '[1, 7]' is invalid for input of size 9"
          ]
        }
      ]
    },
    {
      "cell_type": "code",
      "source": [
        "x_reshaped=x.reshape(9,1)\n",
        "x_reshaped,x_reshaped.shape"
      ],
      "metadata": {
        "id": "snog6vK5Xhax",
        "outputId": "22343c07-d09c-4a81-ecae-f4a0219ed053",
        "colab": {
          "base_uri": "https://localhost:8080/"
        }
      },
      "execution_count": 18,
      "outputs": [
        {
          "output_type": "execute_result",
          "data": {
            "text/plain": [
              "(tensor([[1.],\n",
              "         [2.],\n",
              "         [3.],\n",
              "         [4.],\n",
              "         [5.],\n",
              "         [6.],\n",
              "         [7.],\n",
              "         [8.],\n",
              "         [9.]]),\n",
              " torch.Size([9, 1]))"
            ]
          },
          "metadata": {},
          "execution_count": 18
        }
      ]
    },
    {
      "cell_type": "code",
      "source": [
        "# Size should be compatible\n",
        "x_reshaped=x.reshape(3,3)\n",
        "x_reshaped,x_reshaped.shape"
      ],
      "metadata": {
        "id": "IcHwFJ4WXrVQ",
        "outputId": "598590b0-ab06-45a3-b3ce-4b39cafa3035",
        "colab": {
          "base_uri": "https://localhost:8080/"
        }
      },
      "execution_count": 19,
      "outputs": [
        {
          "output_type": "execute_result",
          "data": {
            "text/plain": [
              "(tensor([[1., 2., 3.],\n",
              "         [4., 5., 6.],\n",
              "         [7., 8., 9.]]),\n",
              " torch.Size([3, 3]))"
            ]
          },
          "metadata": {},
          "execution_count": 19
        }
      ]
    },
    {
      "cell_type": "code",
      "source": [
        "# Change the view\n",
        "z=x.view(1,9)\n",
        "z,z.shape"
      ],
      "metadata": {
        "id": "WMSzjjqKXwTo",
        "outputId": "ae52e032-418d-407a-82b0-2d3e71cbdee5",
        "colab": {
          "base_uri": "https://localhost:8080/"
        }
      },
      "execution_count": 20,
      "outputs": [
        {
          "output_type": "execute_result",
          "data": {
            "text/plain": [
              "(tensor([[1., 2., 3., 4., 5., 6., 7., 8., 9.]]), torch.Size([1, 9]))"
            ]
          },
          "metadata": {},
          "execution_count": 20
        }
      ]
    },
    {
      "cell_type": "code",
      "source": [
        "# Changinf z changed x ( because view of a tensor shares the same memory as original)\n",
        "z[:,0]=5\n",
        "z,x"
      ],
      "metadata": {
        "id": "ffgooKDdX_3B",
        "outputId": "e27eaf0b-05b1-4fe9-cbe5-20542ee02c55",
        "colab": {
          "base_uri": "https://localhost:8080/"
        }
      },
      "execution_count": 21,
      "outputs": [
        {
          "output_type": "execute_result",
          "data": {
            "text/plain": [
              "(tensor([[5., 2., 3., 4., 5., 6., 7., 8., 9.]]),\n",
              " tensor([5., 2., 3., 4., 5., 6., 7., 8., 9.]))"
            ]
          },
          "metadata": {},
          "execution_count": 21
        }
      ]
    },
    {
      "cell_type": "code",
      "source": [
        "# Stack tensors on top of each other\n",
        "x_stacked=torch.stack([x,x,x,x],dim=0)\n",
        "x_stacked"
      ],
      "metadata": {
        "id": "XXHdHgbSYO37",
        "outputId": "de4b65b6-ba9b-4bb9-81e6-6e38fa221d66",
        "colab": {
          "base_uri": "https://localhost:8080/"
        }
      },
      "execution_count": 27,
      "outputs": [
        {
          "output_type": "execute_result",
          "data": {
            "text/plain": [
              "tensor([[5., 2., 3., 4., 5., 6., 7., 8., 9.],\n",
              "        [5., 2., 3., 4., 5., 6., 7., 8., 9.],\n",
              "        [5., 2., 3., 4., 5., 6., 7., 8., 9.],\n",
              "        [5., 2., 3., 4., 5., 6., 7., 8., 9.]])"
            ]
          },
          "metadata": {},
          "execution_count": 27
        }
      ]
    },
    {
      "cell_type": "code",
      "source": [
        "x_stacked=torch.stack([x,x,x,x],dim=1)\n",
        "x_stacked"
      ],
      "metadata": {
        "id": "B4gzbIQBYSqr",
        "outputId": "92300b33-ada9-4a55-cecf-0df82a7adaa2",
        "colab": {
          "base_uri": "https://localhost:8080/"
        }
      },
      "execution_count": 28,
      "outputs": [
        {
          "output_type": "execute_result",
          "data": {
            "text/plain": [
              "tensor([[5., 5., 5., 5.],\n",
              "        [2., 2., 2., 2.],\n",
              "        [3., 3., 3., 3.],\n",
              "        [4., 4., 4., 4.],\n",
              "        [5., 5., 5., 5.],\n",
              "        [6., 6., 6., 6.],\n",
              "        [7., 7., 7., 7.],\n",
              "        [8., 8., 8., 8.],\n",
              "        [9., 9., 9., 9.]])"
            ]
          },
          "metadata": {},
          "execution_count": 28
        }
      ]
    },
    {
      "cell_type": "code",
      "source": [
        "#Sequeeze- removed all single dimensions from target tensors\n",
        "x\n"
      ],
      "metadata": {
        "id": "mi8FnjJxYoA3",
        "outputId": "f6bae770-ac43-44b2-d564-05164b9a1401",
        "colab": {
          "base_uri": "https://localhost:8080/"
        }
      },
      "execution_count": 30,
      "outputs": [
        {
          "output_type": "execute_result",
          "data": {
            "text/plain": [
              "tensor([5., 2., 3., 4., 5., 6., 7., 8., 9.])"
            ]
          },
          "metadata": {},
          "execution_count": 30
        }
      ]
    },
    {
      "cell_type": "code",
      "source": [
        "x.shape"
      ],
      "metadata": {
        "id": "l3vzZKNoY32Y",
        "outputId": "43e4fd8c-1e2d-4982-e83d-c43736c549e1",
        "colab": {
          "base_uri": "https://localhost:8080/"
        }
      },
      "execution_count": 31,
      "outputs": [
        {
          "output_type": "execute_result",
          "data": {
            "text/plain": [
              "torch.Size([9])"
            ]
          },
          "metadata": {},
          "execution_count": 31
        }
      ]
    },
    {
      "cell_type": "code",
      "source": [
        "x.squeeze()"
      ],
      "metadata": {
        "id": "BgVE20T9Y_E2",
        "outputId": "d3492469-b270-4a4a-857f-9a1b993de457",
        "colab": {
          "base_uri": "https://localhost:8080/"
        }
      },
      "execution_count": 32,
      "outputs": [
        {
          "output_type": "execute_result",
          "data": {
            "text/plain": [
              "tensor([5., 2., 3., 4., 5., 6., 7., 8., 9.])"
            ]
          },
          "metadata": {},
          "execution_count": 32
        }
      ]
    },
    {
      "cell_type": "code",
      "source": [
        "x=torch.arange(1,9)"
      ],
      "metadata": {
        "id": "IzVEaecNZB4H"
      },
      "execution_count": 33,
      "outputs": []
    },
    {
      "cell_type": "code",
      "source": [
        "x,x.shape"
      ],
      "metadata": {
        "id": "xmuHkEhHZbQD",
        "outputId": "ae147f88-5d0d-412c-e433-5d49cb7fe246",
        "colab": {
          "base_uri": "https://localhost:8080/"
        }
      },
      "execution_count": 34,
      "outputs": [
        {
          "output_type": "execute_result",
          "data": {
            "text/plain": [
              "(tensor([1, 2, 3, 4, 5, 6, 7, 8]), torch.Size([8]))"
            ]
          },
          "metadata": {},
          "execution_count": 34
        }
      ]
    },
    {
      "cell_type": "code",
      "source": [
        "x_reshaped=x.reshape(1,8)\n",
        "x_reshaped,x_reshaped.shape"
      ],
      "metadata": {
        "id": "jXCVNFtXZdYy",
        "outputId": "2c7288ad-0e6e-43e8-f504-1e37879d660e",
        "colab": {
          "base_uri": "https://localhost:8080/"
        }
      },
      "execution_count": 36,
      "outputs": [
        {
          "output_type": "execute_result",
          "data": {
            "text/plain": [
              "(tensor([[1, 2, 3, 4, 5, 6, 7, 8]]), torch.Size([1, 8]))"
            ]
          },
          "metadata": {},
          "execution_count": 36
        }
      ]
    },
    {
      "cell_type": "code",
      "source": [
        "x.squeeze()\n",
        "x,x.shape"
      ],
      "metadata": {
        "id": "8LSRST-hZnD8",
        "outputId": "3b9475c3-58dc-4b5e-f8ca-c2379b90a981",
        "colab": {
          "base_uri": "https://localhost:8080/"
        }
      },
      "execution_count": 37,
      "outputs": [
        {
          "output_type": "execute_result",
          "data": {
            "text/plain": [
              "(tensor([1, 2, 3, 4, 5, 6, 7, 8]), torch.Size([8]))"
            ]
          },
          "metadata": {},
          "execution_count": 37
        }
      ]
    },
    {
      "cell_type": "code",
      "source": [
        "# unseuence - adds single dimension to a target tensor at a tspecific dimension\n",
        "x,x.shape"
      ],
      "metadata": {
        "id": "xb1QE6HJZ3LT",
        "outputId": "18922923-15d1-4be6-9b0c-08e23a59bbb3",
        "colab": {
          "base_uri": "https://localhost:8080/"
        }
      },
      "execution_count": 38,
      "outputs": [
        {
          "output_type": "execute_result",
          "data": {
            "text/plain": [
              "(tensor([1, 2, 3, 4, 5, 6, 7, 8]), torch.Size([8]))"
            ]
          },
          "metadata": {},
          "execution_count": 38
        }
      ]
    },
    {
      "cell_type": "code",
      "source": [
        "x_unsequeezed=x.unsqueeze(dim=0)\n",
        "x_unsequeezed, x_unsequeezed.shape"
      ],
      "metadata": {
        "id": "P7wmGFFEaICB",
        "outputId": "9809cecb-6c40-466c-b19a-b720149a9950",
        "colab": {
          "base_uri": "https://localhost:8080/"
        }
      },
      "execution_count": 40,
      "outputs": [
        {
          "output_type": "execute_result",
          "data": {
            "text/plain": [
              "(tensor([[1, 2, 3, 4, 5, 6, 7, 8]]), torch.Size([1, 8]))"
            ]
          },
          "metadata": {},
          "execution_count": 40
        }
      ]
    },
    {
      "cell_type": "code",
      "source": [
        "x_unsequeezed=x.unsqueeze(dim=1)\n",
        "x_unsequeezed, x_unsequeezed.shape"
      ],
      "metadata": {
        "id": "CgFmSYtOaUXd",
        "outputId": "2e1b3ca4-e995-4199-9abe-143075e88861",
        "colab": {
          "base_uri": "https://localhost:8080/"
        }
      },
      "execution_count": 41,
      "outputs": [
        {
          "output_type": "execute_result",
          "data": {
            "text/plain": [
              "(tensor([[1],\n",
              "         [2],\n",
              "         [3],\n",
              "         [4],\n",
              "         [5],\n",
              "         [6],\n",
              "         [7],\n",
              "         [8]]),\n",
              " torch.Size([8, 1]))"
            ]
          },
          "metadata": {},
          "execution_count": 41
        }
      ]
    },
    {
      "cell_type": "code",
      "source": [
        "# torch.permutate - rearrange the dimensions of a tagret tensor in a specified order\n",
        "x_original=torch.rand(size=(224,224,3)) # height, width, color_channels\n",
        "# Permute the original tensor to rearrnage the axis or order\n",
        "x_permutated= x_original.permute(2,0,1)\n",
        "x_original.shape, x_permutated.shape"
      ],
      "metadata": {
        "id": "4bAG5V-pajbo",
        "outputId": "b502ee7a-8d7a-4c67-99a1-f7232298683c",
        "colab": {
          "base_uri": "https://localhost:8080/"
        }
      },
      "execution_count": 43,
      "outputs": [
        {
          "output_type": "execute_result",
          "data": {
            "text/plain": [
              "(torch.Size([224, 224, 3]), torch.Size([3, 224, 224]))"
            ]
          },
          "metadata": {},
          "execution_count": 43
        }
      ]
    },
    {
      "cell_type": "code",
      "source": [],
      "metadata": {
        "id": "CMFOzSbqawua"
      },
      "execution_count": null,
      "outputs": []
    }
  ]
}
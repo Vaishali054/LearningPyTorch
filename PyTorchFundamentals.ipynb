{
  "nbformat": 4,
  "nbformat_minor": 0,
  "metadata": {
    "colab": {
      "provenance": [],
      "authorship_tag": "ABX9TyNgp6iwkN4J5LrSDu5kYhnh"
    },
    "kernelspec": {
      "name": "python3",
      "display_name": "Python 3"
    },
    "language_info": {
      "name": "python"
    }
  },
  "cells": [
    {
      "cell_type": "code",
      "execution_count": null,
      "metadata": {
        "id": "JVMhDb-J4qDE"
      },
      "outputs": [],
      "source": [
        "## All the tensor stuff got deleted :)\n",
        "## moving on to next phase"
      ]
    }
  ]
}